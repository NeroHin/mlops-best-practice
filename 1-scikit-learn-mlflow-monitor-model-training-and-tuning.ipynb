{
 "cells": [
  {
   "cell_type": "markdown",
   "metadata": {},
   "source": [
    "### Init and import pkg"
   ]
  },
  {
   "cell_type": "code",
   "execution_count": 1,
   "metadata": {},
   "outputs": [
    {
     "ename": "ModuleNotFoundError",
     "evalue": "No module named 'sklearn'",
     "output_type": "error",
     "traceback": [
      "\u001b[0;31m---------------------------------------------------------------------------\u001b[0m",
      "\u001b[0;31mModuleNotFoundError\u001b[0m                       Traceback (most recent call last)",
      "\u001b[0;32m/var/folders/s6/ryn923fn0b5f_k98rws_2fvm0000gn/T/ipykernel_9464/1640495763.py\u001b[0m in \u001b[0;36m<module>\u001b[0;34m\u001b[0m\n\u001b[0;32m----> 1\u001b[0;31m \u001b[0;32mfrom\u001b[0m \u001b[0msklearn\u001b[0m\u001b[0;34m.\u001b[0m\u001b[0mdatasets\u001b[0m \u001b[0;32mimport\u001b[0m \u001b[0mload_breast_cancer\u001b[0m\u001b[0;34m\u001b[0m\u001b[0;34m\u001b[0m\u001b[0m\n\u001b[0m\u001b[1;32m      2\u001b[0m \u001b[0;32mfrom\u001b[0m \u001b[0msklearn\u001b[0m\u001b[0;34m.\u001b[0m\u001b[0mmodel_selection\u001b[0m \u001b[0;32mimport\u001b[0m \u001b[0mtrain_test_split\u001b[0m\u001b[0;34m\u001b[0m\u001b[0;34m\u001b[0m\u001b[0m\n\u001b[1;32m      3\u001b[0m \u001b[0;32mfrom\u001b[0m \u001b[0msklearn\u001b[0m\u001b[0;34m.\u001b[0m\u001b[0mensemble\u001b[0m \u001b[0;32mimport\u001b[0m \u001b[0mVotingClassifier\u001b[0m\u001b[0;34m,\u001b[0m \u001b[0mStackingClassifier\u001b[0m\u001b[0;34m\u001b[0m\u001b[0;34m\u001b[0m\u001b[0m\n\u001b[1;32m      4\u001b[0m \u001b[0;32mfrom\u001b[0m \u001b[0msklearn\u001b[0m\u001b[0;34m.\u001b[0m\u001b[0msvm\u001b[0m \u001b[0;32mimport\u001b[0m \u001b[0mSVC\u001b[0m\u001b[0;34m\u001b[0m\u001b[0;34m\u001b[0m\u001b[0m\n\u001b[1;32m      5\u001b[0m \u001b[0;32mfrom\u001b[0m \u001b[0msklearn\u001b[0m\u001b[0;34m.\u001b[0m\u001b[0mtree\u001b[0m \u001b[0;32mimport\u001b[0m \u001b[0mDecisionTreeClassifier\u001b[0m\u001b[0;34m\u001b[0m\u001b[0;34m\u001b[0m\u001b[0m\n",
      "\u001b[0;31mModuleNotFoundError\u001b[0m: No module named 'sklearn'"
     ]
    }
   ],
   "source": [
    "from sklearn.datasets import load_breast_cancer\n",
    "from sklearn.model_selection import train_test_split\n",
    "from sklearn.ensemble import VotingClassifier, StackingClassifier\n",
    "from sklearn.svm import SVC\n",
    "from sklearn.tree import DecisionTreeClassifier\n",
    "from sklearn.linear_model import LogisticRegression\n",
    "from sklearn.metrics import classification_report\n",
    "import matplotlib.pyplot as plt\n",
    "import warnings\n",
    "import pandas as pd\n",
    "\n",
    "warnings.filterwarnings('ignore')\n",
    "\n",
    "# Load the data and format it as a dataframe\n",
    "cancer = load_breast_cancer(as_frame=True)\n",
    "\n",
    "# print the first 5 rows of the data\n",
    "display(cancer.data.head())"
   ]
  },
  {
   "cell_type": "code",
   "execution_count": null,
   "metadata": {},
   "outputs": [],
   "source": [
    "\n",
    "# training model\n",
    "def model_training(model, train_data: pd.DataFrame, train_target: pd.DataFrame, test_data: pd.DataFrame, test_target: pd.DataFrame):\n",
    "    model.fit(train_data, train_target)\n",
    "    return model\n",
    "\n",
    "\n",
    "# print the accuracy of the model\n",
    "def model_evaluation(model, test_data: pd.DataFrame, predict_target: pd.DataFrame):\n",
    "    print(f'Model Evaluation:{ model.score(test_data,predict_target)}\\n')\n",
    "\n",
    "\n",
    "# print classification report\n",
    "def print_classification_report(model, test_data: pd.DataFrame, test_target: pd.DataFrame):\n",
    "    predict_target = model.predict(test_data)\n",
    "    print(f'Classification Report:\\n{classification_report(y_true=test_target, y_pred=predict_target)}\\n')\n",
    "    \n",
    "\n",
    "# split the data into training and testing\n",
    "cancer_data_train,cancer_data_test,cancer_target_train,cancer_target_test = train_test_split(cancer.data,cancer.target, test_size=0.2, random_state=42)\n",
    "\n",
    "# single model list\n",
    "models = [SVC(),DecisionTreeClassifier(),LogisticRegression()]\n",
    "\n",
    "\n",
    "# single model training\n",
    "for model in models:\n",
    "    print(f'======== { model } Model Training ========')\n",
    "    model_training(model=model, train_data=cancer_data_train, train_target=cancer_target_train, test_data=cancer_data_test, test_target=cancer_target_test)\n",
    "    model_evaluation(model=model, test_data=cancer_data_test, predict_target=cancer_target_test)\n",
    "    print_classification_report(model=model, test_data=cancer_data_test, test_target=cancer_target_test)\n",
    "    print('====================================================================================================')\n",
    "    \n",
    "# voting classifier, voting='hard' means majority voting\n",
    "voting_model_hard = VotingClassifier(estimators=[('svm',SVC()),('dt',DecisionTreeClassifier()),('lr',LogisticRegression())],voting='hard')\n",
    "\n",
    "# voting classifier, voting='soft' means weighted voting\n",
    "voting_model_soft = VotingClassifier(estimators=[('svm',SVC(probability=True)),('dt',DecisionTreeClassifier()),('lr',LogisticRegression())],voting='soft')\n",
    "\n",
    "# stacking classifier, final_estimator is the final estimator which will be used to predict the output\n",
    "stack_model_dst = StackingClassifier(estimators=[('svm',SVC()),('ada',DecisionTreeClassifier()),('lr',LogisticRegression())],final_estimator=DecisionTreeClassifier())\n",
    "\n",
    "# stacking classifier, final_estimator is the final estimator which will be used to predict the output\n",
    "stack_model_lr = StackingClassifier(estimators=[('svm',SVC()),('ada',DecisionTreeClassifier()),('lr',LogisticRegression())],final_estimator=LogisticRegression())\n",
    "\n",
    "\n",
    "ensemble_models = [voting_model_hard, voting_model_soft, stack_model_dst, stack_model_lr]\n",
    "# ensemble model training\n",
    "for model in ensemble_models:\n",
    "    print(f'======== { model } Model Training ========')\n",
    "    model_training(model=model, train_data=cancer_data_train, train_target=cancer_target_train, test_data=cancer_data_test, test_target=cancer_target_test)\n",
    "    model_evaluation(model=model, test_data=cancer_data_test, predict_target=cancer_target_test)\n",
    "    print_classification_report(model=model, test_data=cancer_data_test, test_target=cancer_target_test)\n",
    "    print('====================================================================================================')\n"
   ]
  }
 ],
 "metadata": {
  "kernelspec": {
   "display_name": "Python 3.7.11 ('Research')",
   "language": "python",
   "name": "python3"
  },
  "language_info": {
   "codemirror_mode": {
    "name": "ipython",
    "version": 3
   },
   "file_extension": ".py",
   "mimetype": "text/x-python",
   "name": "python",
   "nbconvert_exporter": "python",
   "pygments_lexer": "ipython3",
   "version": "3.7.11"
  },
  "orig_nbformat": 4,
  "vscode": {
   "interpreter": {
    "hash": "df831c49162da7e36ee390de774850456fe39ea2aa2f18de316c1c9a8a009a8f"
   }
  }
 },
 "nbformat": 4,
 "nbformat_minor": 2
}
